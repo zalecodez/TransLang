{
 "cells": [
  {
   "cell_type": "markdown",
   "metadata": {},
   "source": [
    "Language Translation\n",
    "--\n",
    "Testing the Google Maps API in Python.\n",
    "\n",
    "First we will simply import the GCP Translate library and translate \"Hello World!\" from english to spanish."
   ]
  },
  {
   "cell_type": "code",
   "execution_count": 1,
   "metadata": {},
   "outputs": [],
   "source": [
    "import os\n",
    "os.environ[\"GOOGLE_APPLICATION_CREDENTIALS\"] = './credentials/translang-234304-576795a36648.json'"
   ]
  },
  {
   "cell_type": "code",
   "execution_count": 2,
   "metadata": {},
   "outputs": [
    {
     "name": "stdout",
     "output_type": "stream",
     "text": [
      "Text: Hello, world!\n",
      "Translation: ¡Hola Mundo!\n"
     ]
    }
   ],
   "source": [
    "# Imports the Google Cloud client library\n",
    "from google.cloud import translate\n",
    "\n",
    "# Instantiates a client\n",
    "translate_client = translate.Client()\n",
    "\n",
    "# The text to translate\n",
    "text = u'Hello, world!'\n",
    "# The target language\n",
    "target = 'es'\n",
    "\n",
    "# Translates some text into Russian\n",
    "translation = translate_client.translate(\n",
    "    text,\n",
    "    target_language=target)\n",
    "\n",
    "print(u'Text: {}'.format(text))\n",
    "print(u'Translation: {}'.format(translation['translatedText']))"
   ]
  },
  {
   "cell_type": "markdown",
   "metadata": {},
   "source": [
    "That was pretty simple. So if creating our own model proves to be too difficult, we can definitely substitute it for the Google Translate API.\n",
    "\n"
   ]
  },
  {
   "cell_type": "code",
   "execution_count": 3,
   "metadata": {},
   "outputs": [
    {
     "name": "stdout",
     "output_type": "stream",
     "text": [
      "Audio content written to file \"output.mp3\"\n"
     ]
    }
   ],
   "source": [
    "\"\"\"Synthesizes speech from the input string of text or ssml.\n",
    "\n",
    "Note: ssml must be well-formed according to:\n",
    "    https://www.w3.org/TR/speech-synthesis/\n",
    "\"\"\"\n",
    "from google.cloud import texttospeech\n",
    "\n",
    "# Instantiates a client\n",
    "client = texttospeech.TextToSpeechClient()\n",
    "\n",
    "# Set the text input to be synthesized\n",
    "synthesis_input = texttospeech.types.SynthesisInput(text=translation['translatedText'])\n",
    "\n",
    "# Build the voice request, select the language code (\"en-US\") and the ssml\n",
    "# voice gender (\"neutral\")\n",
    "voice = texttospeech.types.VoiceSelectionParams(\n",
    "    language_code='es',\n",
    "    ssml_gender=texttospeech.enums.SsmlVoiceGender.NEUTRAL)\n",
    "\n",
    "# Select the type of audio file you want returned\n",
    "audio_config = texttospeech.types.AudioConfig(\n",
    "    audio_encoding=texttospeech.enums.AudioEncoding.MP3)\n",
    "\n",
    "# Perform the text-to-speech request on the text input with the selected\n",
    "# voice parameters and audio file type\n",
    "response = client.synthesize_speech(synthesis_input, voice, audio_config)\n",
    "\n",
    "# The response's audio_content is binary.\n",
    "with open('output.mp3', 'wb') as out:\n",
    "    # Write the response to the output file.\n",
    "    out.write(response.audio_content)\n",
    "    print('Audio content written to file \"output.mp3\"')"
   ]
  },
  {
   "cell_type": "code",
   "execution_count": 5,
   "metadata": {},
   "outputs": [
    {
     "data": {
      "text/html": [
       "\n",
       "                <audio controls=\"controls\" >\n",
       "                    <source src=\"data:audio/mpeg;base64,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\" type=\"audio/mpeg\" />\n",
       "                    Your browser does not support the audio element.\n",
       "                </audio>\n",
       "              "
      ],
      "text/plain": [
       "<IPython.lib.display.Audio object>"
      ]
     },
     "execution_count": 5,
     "metadata": {},
     "output_type": "execute_result"
    }
   ],
   "source": [
    "import IPython.display as ipd\n",
    "ipd.Audio('output.mp3')"
   ]
  },
  {
   "cell_type": "code",
   "execution_count": null,
   "metadata": {},
   "outputs": [],
   "source": []
  }
 ],
 "metadata": {
  "kernelspec": {
   "display_name": "Python 3",
   "language": "python",
   "name": "python3"
  },
  "language_info": {
   "codemirror_mode": {
    "name": "ipython",
    "version": 3
   },
   "file_extension": ".py",
   "mimetype": "text/x-python",
   "name": "python",
   "nbconvert_exporter": "python",
   "pygments_lexer": "ipython3",
   "version": "3.7.1"
  }
 },
 "nbformat": 4,
 "nbformat_minor": 2
}
